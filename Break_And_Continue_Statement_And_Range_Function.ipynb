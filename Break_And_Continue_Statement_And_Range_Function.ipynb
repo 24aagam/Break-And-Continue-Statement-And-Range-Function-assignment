{
  "nbformat": 4,
  "nbformat_minor": 0,
  "metadata": {
    "colab": {
      "provenance": []
    },
    "kernelspec": {
      "name": "python3",
      "display_name": "Python 3"
    },
    "language_info": {
      "name": "python"
    }
  },
  "cells": [
    {
      "cell_type": "code",
      "execution_count": 12,
      "metadata": {
        "colab": {
          "base_uri": "https://localhost:8080/"
        },
        "id": "OwnpkJdLpx1N",
        "outputId": "e21d944e-8402-4251-9671-c2f1ae5971ef"
      },
      "outputs": [
        {
          "output_type": "stream",
          "name": "stdout",
          "text": [
            "1\n",
            "2\n",
            "3\n",
            "4\n"
          ]
        }
      ],
      "source": [
        "# 1. Write a program to print numbers from 1 to 10, but stop if the number is 5.\n",
        "\n",
        "num = 1, 2, 3, 4, 5, 6, 7, 8, 9, 10\n",
        "\n",
        "\n",
        "for i in num:\n",
        "\n",
        "  if i == 5:\n",
        "    break\n",
        "  print(i)\n"
      ]
    },
    {
      "cell_type": "code",
      "source": [
        "# 2. Write a program to iterate through a list and stop when encountering a specific element.\n",
        "\n",
        "num = [10, 20, 30, 40, 50, 60]\n",
        "\n",
        "for i in num:\n",
        "  if i > 40:\n",
        "    break\n",
        "  print(i)"
      ],
      "metadata": {
        "colab": {
          "base_uri": "https://localhost:8080/"
        },
        "id": "xkpOrbmIqjhF",
        "outputId": "5f3ddbe8-8d5a-4380-edae-2b093bb7392f"
      },
      "execution_count": 10,
      "outputs": [
        {
          "output_type": "stream",
          "name": "stdout",
          "text": [
            "10\n",
            "20\n",
            "30\n",
            "40\n"
          ]
        }
      ]
    },
    {
      "cell_type": "code",
      "source": [
        "# 3. Write a program to skip printing even numbers from 1 to 10.\n",
        "\n",
        "num = 1, 2, 3, 4, 5, 6, 7, 8, 9, 10\n",
        "\n",
        "for i in num:\n",
        "  if i % 2 == 0:\n",
        "    continue\n",
        "  print(i)"
      ],
      "metadata": {
        "colab": {
          "base_uri": "https://localhost:8080/"
        },
        "id": "uNiGwIssr27A",
        "outputId": "32f9bf9c-92c8-4b23-ad02-63923fb4084e"
      },
      "execution_count": 13,
      "outputs": [
        {
          "output_type": "stream",
          "name": "stdout",
          "text": [
            "1\n",
            "3\n",
            "5\n",
            "7\n",
            "9\n"
          ]
        }
      ]
    },
    {
      "cell_type": "code",
      "source": [
        "# 4. Write a program to print numbers from 0 to 9 using range().\n",
        "\n",
        "for i in range(10):\n",
        "  print(i)"
      ],
      "metadata": {
        "colab": {
          "base_uri": "https://localhost:8080/"
        },
        "id": "V55FUfmssUEI",
        "outputId": "3fd0bc50-58c2-43f3-e457-db2b7e7039f4"
      },
      "execution_count": 15,
      "outputs": [
        {
          "output_type": "stream",
          "name": "stdout",
          "text": [
            "0\n",
            "1\n",
            "2\n",
            "3\n",
            "4\n",
            "5\n",
            "6\n",
            "7\n",
            "8\n",
            "9\n"
          ]
        }
      ]
    },
    {
      "cell_type": "code",
      "source": [
        "# 5. Write a program to print multiplication tables from 1 to 5, but stop after the first table is printed for each number.\n",
        "\n",
        "num = 5\n",
        "\n",
        "for i in range(1, num+1):\n",
        "  for j in range(1, 11):\n",
        "    multiple = i * j\n",
        "    if  i * (j > 1):\n",
        "      continue\n",
        "    print(f\"{i} * {j} = {multiple}\")\n",
        "  print()"
      ],
      "metadata": {
        "colab": {
          "base_uri": "https://localhost:8080/"
        },
        "id": "1ggyx9TRtK6i",
        "outputId": "88f1907c-900f-4aac-fbaf-4f445ef0406b"
      },
      "execution_count": 28,
      "outputs": [
        {
          "output_type": "stream",
          "name": "stdout",
          "text": [
            "1 * 1 = 1\n",
            "\n",
            "2 * 1 = 2\n",
            "\n",
            "3 * 1 = 3\n",
            "\n",
            "4 * 1 = 4\n",
            "\n",
            "5 * 1 = 5\n",
            "\n"
          ]
        }
      ]
    },
    {
      "cell_type": "code",
      "source": [
        "# 6. Write a program to skip printing even numbers using a while loop.\n",
        "\n",
        "num = 0\n",
        "\n",
        "while num < 20:\n",
        "  num += 1\n",
        "\n",
        "\n",
        "  if num % 2 == 0:\n",
        "     continue\n",
        "\n",
        "  print(num)\n",
        "\n",
        "\n",
        "\n"
      ],
      "metadata": {
        "colab": {
          "base_uri": "https://localhost:8080/"
        },
        "id": "GUE6huSFxXJp",
        "outputId": "a3684a60-6f35-4ccc-d3a7-c9ce6ca140c2"
      },
      "execution_count": 39,
      "outputs": [
        {
          "output_type": "stream",
          "name": "stdout",
          "text": [
            "1\n",
            "3\n",
            "5\n",
            "7\n",
            "9\n",
            "11\n",
            "13\n",
            "15\n",
            "17\n",
            "19\n"
          ]
        }
      ]
    }
  ]
}